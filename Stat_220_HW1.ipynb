{
  "cells": [
    {
      "cell_type": "markdown",
      "metadata": {
        "id": "vTC2sL5JZL4w"
      },
      "source": [
        "[![Open in Colab](https://colab.research.google.com/assets/colab-badge.svg)](https://colab.research.google.com/github/drbob-richardson/stat220/blob/main/Assignments/Stat_220_HW1.ipynb)\n"
      ]
    },
    {
      "cell_type": "markdown",
      "metadata": {
        "id": "rAHSgD3t8Oct"
      },
      "source": [
        "**Problem 1**. Give an example of a variable that is (a) categorical; (b) quantitative; (c) discrete; (d) continuous.\n",
        "\n"
      ]
    },
    {
      "cell_type": "markdown",
      "metadata": {
        "id": "dsfbC4NlASWt"
      },
      "source": [
        "(a) Categorical variables have names like \"hair color\" or \"eye color\"\n",
        "(b) Quantitative refers to variables that have numeric values like \"height\"\n",
        "(c) Discrete values have a set value, like number of cars in one parking lot\n",
        "(d) Continuous variables have an infinite number of different numeric possibilities like gas prices"
      ]
    },
    {
      "cell_type": "markdown",
      "metadata": {
        "id": "724wPOyj8SMA"
      },
      "source": [
        "**Problem 2**. Analyze the Carbon_West data file using the following code."
      ]
    },
    {
      "cell_type": "code",
      "execution_count": null,
      "metadata": {
        "id": "EIoKaZmCZL4z"
      },
      "outputs": [],
      "source": [
        "import pandas as pd\n",
        "import numpy as np\n",
        "import matplotlib.pyplot as plt\n",
        "carbon_west = pd.read_fwf(\"https://stat4ds.rwth-aachen.de/data/Carbon_West.dat\")"
      ]
    },
    {
      "cell_type": "markdown",
      "metadata": {
        "id": "8eVNIOzIBLvz"
      },
      "source": [
        "Part a. Construct a histogram of CO2 emissions."
      ]
    },
    {
      "cell_type": "code",
      "execution_count": null,
      "metadata": {
        "id": "hpYwEy9D6uCb",
        "outputId": "d4c05ddb-7622-4555-b2bc-d4f56801efd5",
        "colab": {
          "base_uri": "https://localhost:8080/",
          "height": 302
        }
      },
      "outputs": [
        {
          "output_type": "display_data",
          "data": {
            "text/plain": [
              "<Figure size 1200x400 with 1 Axes>"
            ],
            "image/png": "[encoded data removed]"
          },
          "metadata": {}
        }
      ],
      "source": [
        "plt.figure(figsize=(12, 4))\n",
        "plt.hist(carbon_west[\"CO2\"], bins=20, edgecolor='black')\n",
        "plt.title(f'Histogram of CO2 Emissions')\n",
        "plt.xlabel(\"CO2 Emissions\")\n",
        "plt.ylabel('Number of Countries')\n",
        "plt.show()\n"
      ]
    },
    {
      "cell_type": "markdown",
      "metadata": {
        "id": "okwY6u3RA2HW"
      },
      "source": [
        "Part b. Find the mean, median, and standard deviation."
      ]
    },
    {
      "cell_type": "code",
      "execution_count": null,
      "metadata": {
        "id": "zRgquQXDBU7d",
        "colab": {
          "base_uri": "https://localhost:8080/"
        },
        "outputId": "0db6d3a4-4ccd-4fff-e538-b290b5742cab"
      },
      "outputs": [
        {
          "output_type": "stream",
          "name": "stdout",
          "text": [
            "Mean value: 6.717142857142858\n",
            "Median value: 5.9\n",
            "Standard Deviation value: 3.3086454469884727\n"
          ]
        }
      ],
      "source": [
        "mean_value = np.mean(carbon_west[\"CO2\"])\n",
        "median_value = np.median(carbon_west[\"CO2\"])\n",
        "std_value = np.std(carbon_west[\"CO2\"])\n",
        "\n",
        "print(f\"Mean value: {mean_value}\")\n",
        "print(f\"Median value: {median_value}\")\n",
        "print(f\"Standard Deviation value: {std_value}\")"
      ]
    },
    {
      "cell_type": "markdown",
      "metadata": {
        "id": "51Jc1C0G8pyj"
      },
      "source": [
        "**Problem 3**. Read in the murder data set using the following code. The variable murder is the murder rate (per 100,000 population) for each state in the U.S. in 2017 according to the FBI Uniform Crime Reports. At first, do not use the observation for D.C. (DC)."
      ]
    },
    {
      "cell_type": "code",
      "execution_count": null,
      "metadata": {
        "id": "vyFrxA8SZL40"
      },
      "outputs": [],
      "source": [
        "murders = pd.read_fwf(\"https://stat4ds.rwth-aachen.de/data/Murder.dat\")\n",
        "murders_dc = murders[murders['state'] != \"DC\"]"
      ]
    },
    {
      "cell_type": "markdown",
      "metadata": {
        "id": "GZZLzlxUBHNq"
      },
      "source": [
        "Part a. Find the mean and standard deviation for murders without D.C."
      ]
    },
    {
      "cell_type": "code",
      "execution_count": null,
      "metadata": {
        "id": "aWW3ZbwCBfNI",
        "colab": {
          "base_uri": "https://localhost:8080/"
        },
        "outputId": "3a3afe15-1048-4ca0-f01b-adddbd4650f6"
      },
      "outputs": [
        {
          "output_type": "stream",
          "name": "stdout",
          "text": [
            "Mean value: 4.874\n",
            "Standard Deviation value: 2.560297638947472\n"
          ]
        }
      ],
      "source": [
        "mean_value = np.mean(murders_dc[\"murder\"])\n",
        "std_value = np.std(murders_dc[\"murder\"])\n",
        "\n",
        "print(f\"Mean value: {mean_value}\")\n",
        "print(f\"Standard Deviation value: {std_value}\")"
      ]
    },
    {
      "cell_type": "markdown",
      "metadata": {
        "id": "i2g3hF1gBfmV"
      },
      "source": [
        "Part b. Find the five-number  summary without D.C."
      ]
    },
    {
      "cell_type": "code",
      "execution_count": null,
      "metadata": {
        "id": "JHUzgc_CBkuo",
        "colab": {
          "base_uri": "https://localhost:8080/"
        },
        "outputId": "77e26a9d-e203-41e1-da68-80ffe4b5cc7a"
      },
      "outputs": [
        {
          "output_type": "stream",
          "name": "stdout",
          "text": [
            "Minimum: 1.0\n",
            "1st Quartile (Q1): 2.625\n",
            "Median (Q2): 4.85\n",
            "3rd Quartile (Q3): 6.175\n",
            "Maximum: 12.4\n"
          ]
        }
      ],
      "source": [
        "minimum = np.min(murders_dc[\"murder\"])\n",
        "q1 = np.percentile(murders_dc[\"murder\"], 25)\n",
        "median = np.median(murders_dc[\"murder\"])\n",
        "q3 = np.percentile(murders_dc[\"murder\"], 75)\n",
        "maximum = np.max(murders_dc[\"murder\"])\n",
        "\n",
        "print(f\"Minimum: {minimum}\")\n",
        "print(f\"1st Quartile (Q1): {q1}\")\n",
        "print(f\"Median (Q2): {median}\")\n",
        "print(f\"3rd Quartile (Q3): {q3}\")\n",
        "print(f\"Maximum: {maximum}\")"
      ]
    },
    {
      "cell_type": "markdown",
      "metadata": {
        "id": "StEDIf2eBlEo"
      },
      "source": [
        "Part c. Now include the observation for D.C. and recalculate the mean, median, and five-number summary. What is affected more by this outlier: The mean or the median? The range or the inter-quartile range?"
      ]
    },
    {
      "cell_type": "code",
      "execution_count": null,
      "metadata": {
        "id": "0E-QkG4K85Ti",
        "colab": {
          "base_uri": "https://localhost:8080/"
        },
        "outputId": "9b047b7e-7274-4226-fd85-6f7c95b3156e"
      },
      "outputs": [
        {
          "output_type": "stream",
          "name": "stdout",
          "text": [
            "Mean value: 5.252941176470588\n",
            "Standard Deviation value: 3.688687153732127\n",
            "Minimum: 1.0\n",
            "1st Quartile (Q1): 2.6500000000000004\n",
            "Median (Q2): 5.0\n",
            "3rd Quartile (Q3): 6.45\n",
            "Maximum: 24.2\n"
          ]
        }
      ],
      "source": [
        "mean_value = np.mean(murders[\"murder\"])\n",
        "std_value = np.std(murders[\"murder\"])\n",
        "\n",
        "print(f\"Mean value: {mean_value}\")\n",
        "print(f\"Standard Deviation value: {std_value}\")\n",
        "\n",
        "minimum = np.min(murders[\"murder\"])\n",
        "q1 = np.percentile(murders[\"murder\"], 25)\n",
        "median = np.median(murders[\"murder\"])\n",
        "q3 = np.percentile(murders[\"murder\"], 75)\n",
        "maximum = np.max(murders[\"murder\"])\n",
        "\n",
        "print(f\"Minimum: {minimum}\")\n",
        "print(f\"1st Quartile (Q1): {q1}\")\n",
        "print(f\"Median (Q2): {median}\")\n",
        "print(f\"3rd Quartile (Q3): {q3}\")\n",
        "print(f\"Maximum: {maximum}\")"
      ]
    },
    {
      "cell_type": "markdown",
      "source": [
        "It looks like the mean was affected more by the DC data. As well as the entire range rather than the inter-quartile range."
      ],
      "metadata": {
        "id": "RfP2zF1zs2fD"
      }
    },
    {
      "cell_type": "markdown",
      "metadata": {
        "id": "XSUrzIUN9Usb"
      },
      "source": [
        "**Problem 4**. Read in the Houses data file using the following code.  The variables include price (thousands of dollars), size (square feet), tax bill (dollars), number of bathrooms, number of bedrooms, and whether the house is new (1 = yes, 0 = no) for 100 home sales in Gainesville, Florida. Let\n",
        "y = selling price and x = size of home."
      ]
    },
    {
      "cell_type": "code",
      "execution_count": null,
      "metadata": {
        "id": "rqiHSWDhZL40",
        "colab": {
          "base_uri": "https://localhost:8080/"
        },
        "outputId": "c0b35a51-51f3-4333-cdfa-61f15fe976e8"
      },
      "outputs": [
        {
          "output_type": "stream",
          "name": "stdout",
          "text": [
            "    case   price  size  new  taxes  bedrooms  baths\n",
            "0      1  419.85  2048    0   3104         4      2\n",
            "1      2  219.75   912    0   1173         2      1\n",
            "2      3  356.55  1654    0   3076         4      2\n",
            "3      4  300.00  2068    0   1608         3      2\n",
            "4      5  239.85  1477    0   1454         3      3\n",
            "..   ...     ...   ...  ...    ...       ...    ...\n",
            "95    96  264.00  1060    0    990         2      2\n",
            "96    97  294.75  1730    0   3030         3      2\n",
            "97    98  198.30  1370    0   1580         3      2\n",
            "98    99  132.60  1560    0   1770         3      2\n",
            "99    10  190.80  1340    0   1430         3      2\n",
            "\n",
            "[100 rows x 7 columns]\n"
          ]
        }
      ],
      "source": [
        "houses = pd.read_fwf(\"https://stat4ds.rwth-aachen.de/data/Houses.dat\")\n",
        "print(houses)"
      ]
    },
    {
      "cell_type": "markdown",
      "metadata": {
        "id": "ANDMQnnNCDJ_"
      },
      "source": [
        "Part a. Construct a scatterplot between square feet and price of a home."
      ]
    },
    {
      "cell_type": "code",
      "execution_count": null,
      "metadata": {
        "id": "NR78IlfS9UQL",
        "colab": {
          "base_uri": "https://localhost:8080/",
          "height": 564
        },
        "outputId": "738984ed-3fdc-4209-9590-4e2dda25ad12"
      },
      "outputs": [
        {
          "output_type": "display_data",
          "data": {
            "text/plain": [
              "<Figure size 1000x600 with 1 Axes>"
            ],
            "image/png": "[encoded data removed]"
          },
          "metadata": {}
        }
      ],
      "source": [
        "plt.figure(figsize=(10, 6))\n",
        "plt.scatter(houses[\"size\"], houses[\"price\"], alpha=0.5)\n",
        "plt.title(f'Scatterplot of Price vs. Size')\n",
        "plt.xlabel(\"Size\")\n",
        "plt.ylabel('Price')\n",
        "plt.show()"
      ]
    },
    {
      "cell_type": "markdown",
      "metadata": {
        "id": "r3-QiSsACInq"
      },
      "source": [
        "Part b. Find the correlation between the two variables."
      ]
    },
    {
      "cell_type": "code",
      "execution_count": null,
      "metadata": {
        "id": "1Z9oP-T6CMdx",
        "colab": {
          "base_uri": "https://localhost:8080/"
        },
        "outputId": "96d8e989-4e05-411b-d7ab-92d06bf593e0"
      },
      "outputs": [
        {
          "output_type": "stream",
          "name": "stdout",
          "text": [
            "Correlation: 0.8337847885586537\n"
          ]
        }
      ],
      "source": [
        "correlation = houses[\"size\"].corr(houses[\"price\"])\n",
        "print(f\"Correlation: {correlation}\")"
      ]
    },
    {
      "cell_type": "markdown",
      "metadata": {
        "id": "nCTcEbFSCM6J"
      },
      "source": [
        "Part c. Find and plot the regression line on top of the scatterplot."
      ]
    },
    {
      "cell_type": "code",
      "execution_count": null,
      "metadata": {
        "id": "zqnDAR3QZL41",
        "colab": {
          "base_uri": "https://localhost:8080/",
          "height": 599
        },
        "outputId": "4e00a532-1eed-4f8b-8f23-fb0357c7963e"
      },
      "outputs": [
        {
          "output_type": "stream",
          "name": "stdout",
          "text": [
            "Slope: 0.18989116794379626\n",
            "Intercept: -76.38938210746849\n"
          ]
        },
        {
          "output_type": "display_data",
          "data": {
            "text/plain": [
              "<Figure size 1000x600 with 1 Axes>"
            ],
            "image/png": "[encoded data removed]"
          },
          "metadata": {}
        }
      ],
      "source": [
        "x = houses[\"size\"]\n",
        "y = houses[\"price\"]\n",
        "slope, intercept = np.polyfit(x, y, 1)\n",
        "\n",
        "print(f\"Slope: {slope}\")\n",
        "print(f\"Intercept: {intercept}\")\n",
        "plt.figure(figsize=(10, 6))\n",
        "plt.scatter(houses[\"size\"], houses[\"price\"], alpha=0.5)\n",
        "plt.title(f'Scatterplot of Price vs. Size')\n",
        "plt.xlabel(\"Size\")\n",
        "plt.ylabel('Price')\n",
        "plt.plot(x, slope * x + intercept, color='red')\n",
        "plt.show()"
      ]
    },
    {
      "cell_type": "markdown",
      "metadata": {
        "id": "T6LlObHlZL41"
      },
      "source": [
        "Part d. Create a side by side boxplot of price comparing homes that are new and homes that are not new."
      ]
    },
    {
      "cell_type": "code",
      "execution_count": null,
      "metadata": {
        "id": "bHah2zlqZL41",
        "colab": {
          "base_uri": "https://localhost:8080/",
          "height": 564
        },
        "outputId": "b99d05e9-4837-49e3-bcb6-c94fd348a2d5"
      },
      "outputs": [
        {
          "output_type": "display_data",
          "data": {
            "text/plain": [
              "<Figure size 1000x600 with 1 Axes>"
            ],
            "image/png": "[encoded data removed]"
          },
          "metadata": {}
        }
      ],
      "source": [
        "plt.figure(figsize=(10, 6))\n",
        "plt.boxplot([houses[houses['new'] == 1]['price'], houses[houses['new'] == 0]['price']], labels=['New', 'Not New'], vert=False)\n",
        "plt.title(f'Boxplot of Price by Home Type')\n",
        "plt.xlabel(\"Price\")\n",
        "plt.ylabel('Home Type')\n",
        "plt.show()"
      ]
    },
    {
      "cell_type": "markdown",
      "metadata": {
        "id": "9_SO42VNZL41"
      },
      "source": [
        "Part e. What is the relationship between size and price.  Justify your answer using the plots created. Do the same for the relationship between price and whether or not a house is new, again using the plot to justify your answer."
      ]
    },
    {
      "cell_type": "markdown",
      "metadata": {
        "id": "3lmVq2XqZL41"
      },
      "source": [
        "Price and size seems to have a positive correlation, as size of the house increases, the price of the home goes up as well. Whether or not the house is new seems to have a negative correlation, that is if the house is old (or age of the house increases) the price will go down."
      ]
    },
    {
      "cell_type": "markdown",
      "metadata": {
        "id": "QsOTfwzI9alX"
      },
      "source": [
        "**Problem 5**. Using the Happy data file read in by the following code. Construct the contingency table relating marital status and happiness."
      ]
    },
    {
      "cell_type": "code",
      "execution_count": null,
      "metadata": {
        "id": "nDtYl1u7ZL41"
      },
      "outputs": [],
      "source": [
        "happy = pd.read_csv(\"https://stat4ds.rwth-aachen.de/data/Happy.dat\", sep=\"\\\\s+\")\n"
      ]
    },
    {
      "cell_type": "code",
      "execution_count": null,
      "metadata": {
        "id": "NP3JwT9o9btJ",
        "colab": {
          "base_uri": "https://localhost:8080/",
          "height": 175
        },
        "outputId": "de8e61e8-5493-4cdc-e1d6-5f51ac7d1a51"
      },
      "outputs": [
        {
          "output_type": "execute_result",
          "data": {
            "text/plain": [
              "happiness    1    2    3\n",
              "marital                 \n",
              "1          432  504   61\n",
              "2           92  282  103\n",
              "3          124  409  135"
            ],
            "text/html": [
              "\n",
              "  <div id=\"df-ad0c8151-07fd-4878-bbf5-1443b95dcef1\" class=\"colab-df-container\">\n",
              "    <div>\n",
              "<style scoped>\n",
              "    .dataframe tbody tr th:only-of-type {\n",
              "        vertical-align: middle;\n",
              "    }\n",
              "\n",
              "    .dataframe tbody tr th {\n",
              "        vertical-align: top;\n",
              "    }\n",
              "\n",
              "    .dataframe thead th {\n",
              "        text-align: right;\n",
              "    }\n",
              "</style>\n",
              "<table border=\"1\" class=\"dataframe\">\n",
              "  <thead>\n",
              "    <tr style=\"text-align: right;\">\n",
              "      <th>happiness</th>\n",
              "      <th>1</th>\n",
              "      <th>2</th>\n",
              "      <th>3</th>\n",
              "    </tr>\n",
              "    <tr>\n",
              "      <th>marital</th>\n",
              "      <th></th>\n",
              "      <th></th>\n",
              "      <th></th>\n",
              "    </tr>\n",
              "  </thead>\n",
              "  <tbody>\n",
              "    <tr>\n",
              "      <th>1</th>\n",
              "      <td>432</td>\n",
              "      <td>504</td>\n",
              "      <td>61</td>\n",
              "    </tr>\n",
              "    <tr>\n",
              "      <th>2</th>\n",
              "      <td>92</td>\n",
              "      <td>282</td>\n",
              "      <td>103</td>\n",
              "    </tr>\n",
              "    <tr>\n",
              "      <th>3</th>\n",
              "      <td>124</td>\n",
              "      <td>409</td>\n",
              "      <td>135</td>\n",
              "    </tr>\n",
              "  </tbody>\n",
              "</table>\n",
              "</div>\n",
              "    <div class=\"colab-df-buttons\">\n",
              "\n",
              "  <div class=\"colab-df-container\">\n",
              "    <button class=\"colab-df-convert\" onclick=\"convertToInteractive('df-ad0c8151-07fd-4878-bbf5-1443b95dcef1')\"\n",
              "            title=\"Convert this dataframe to an interactive table.\"\n",
              "            style=\"display:none;\">\n",
              "\n",
              "  <svg xmlns=\"http://www.w3.org/2000/svg\" height=\"24px\" viewBox=\"0 -960 960 960\">\n",
              "    <path d=\"M120-120v-720h720v720H120Zm60-500h600v-160H180v160Zm220 220h160v-160H400v160Zm0 220h160v-160H400v160ZM180-400h160v-160H180v160Zm440 0h160v-160H620v160ZM180-180h160v-160H180v160Zm440 0h160v-160H620v160Z\"/>\n",
              "  </svg>\n",
              "    </button>\n",
              "\n",
              "  <style>\n",
              "    .colab-df-container {\n",
              "      display:flex;\n",
              "      gap: 12px;\n",
              "    }\n",
              "\n",
              "    .colab-df-convert {\n",
              "      background-color: #E8F0FE;\n",
              "      border: none;\n",
              "      border-radius: 50%;\n",
              "      cursor: pointer;\n",
              "      display: none;\n",
              "      fill: #1967D2;\n",
              "      height: 32px;\n",
              "      padding: 0 0 0 0;\n",
              "      width: 32px;\n",
              "    }\n",
              "\n",
              "    .colab-df-convert:hover {\n",
              "      background-color: #E2EBFA;\n",
              "      box-shadow: 0px 1px 2px rgba(60, 64, 67, 0.3), 0px 1px 3px 1px rgba(60, 64, 67, 0.15);\n",
              "      fill: #174EA6;\n",
              "    }\n",
              "\n",
              "    .colab-df-buttons div {\n",
              "      margin-bottom: 4px;\n",
              "    }\n",
              "\n",
              "    [theme=dark] .colab-df-convert {\n",
              "      background-color: #3B4455;\n",
              "      fill: #D2E3FC;\n",
              "    }\n",
              "\n",
              "    [theme=dark] .colab-df-convert:hover {\n",
              "      background-color: #434B5C;\n",
              "      box-shadow: 0px 1px 3px 1px rgba(0, 0, 0, 0.15);\n",
              "      filter: drop-shadow(0px 1px 2px rgba(0, 0, 0, 0.3));\n",
              "      fill: #FFFFFF;\n",
              "    }\n",
              "  </style>\n",
              "\n",
              "    <script>\n",
              "      const buttonEl =\n",
              "        document.querySelector('#df-ad0c8151-07fd-4878-bbf5-1443b95dcef1 button.colab-df-convert');\n",
              "      buttonEl.style.display =\n",
              "        google.colab.kernel.accessAllowed ? 'block' : 'none';\n",
              "\n",
              "      async function convertToInteractive(key) {\n",
              "        const element = document.querySelector('#df-ad0c8151-07fd-4878-bbf5-1443b95dcef1');\n",
              "        const dataTable =\n",
              "          await google.colab.kernel.invokeFunction('convertToInteractive',\n",
              "                                                    [key], {});\n",
              "        if (!dataTable) return;\n",
              "\n",
              "        const docLinkHtml = 'Like what you see? Visit the ' +\n",
              "          '<a target=\"_blank\" href=https://colab.research.google.com/notebooks/data_table.ipynb>data table notebook</a>'\n",
              "          + ' to learn more about interactive tables.';\n",
              "        element.innerHTML = '';\n",
              "        dataTable['output_type'] = 'display_data';\n",
              "        await google.colab.output.renderOutput(dataTable, element);\n",
              "        const docLink = document.createElement('div');\n",
              "        docLink.innerHTML = docLinkHtml;\n",
              "        element.appendChild(docLink);\n",
              "      }\n",
              "    </script>\n",
              "  </div>\n",
              "\n",
              "\n",
              "<div id=\"df-fdbf266e-d92b-47ca-a434-a976d3937d40\">\n",
              "  <button class=\"colab-df-quickchart\" onclick=\"quickchart('df-fdbf266e-d92b-47ca-a434-a976d3937d40')\"\n",
              "            title=\"Suggest charts\"\n",
              "            style=\"display:none;\">\n",
              "\n",
              "<svg xmlns=\"http://www.w3.org/2000/svg\" height=\"24px\"viewBox=\"0 0 24 24\"\n",
              "     width=\"24px\">\n",
              "    <g>\n",
              "        <path d=\"M19 3H5c-1.1 0-2 .9-2 2v14c0 1.1.9 2 2 2h14c1.1 0 2-.9 2-2V5c0-1.1-.9-2-2-2zM9 17H7v-7h2v7zm4 0h-2V7h2v10zm4 0h-2v-4h2v4z\"/>\n",
              "    </g>\n",
              "</svg>\n",
              "  </button>\n",
              "\n",
              "<style>\n",
              "  .colab-df-quickchart {\n",
              "      --bg-color: #E8F0FE;\n",
              "      --fill-color: #1967D2;\n",
              "      --hover-bg-color: #E2EBFA;\n",
              "      --hover-fill-color: #174EA6;\n",
              "      --disabled-fill-color: #AAA;\n",
              "      --disabled-bg-color: #DDD;\n",
              "  }\n",
              "\n",
              "  [theme=dark] .colab-df-quickchart {\n",
              "      --bg-color: #3B4455;\n",
              "      --fill-color: #D2E3FC;\n",
              "      --hover-bg-color: #434B5C;\n",
              "      --hover-fill-color: #FFFFFF;\n",
              "      --disabled-bg-color: #3B4455;\n",
              "      --disabled-fill-color: #666;\n",
              "  }\n",
              "\n",
              "  .colab-df-quickchart {\n",
              "    background-color: var(--bg-color);\n",
              "    border: none;\n",
              "    border-radius: 50%;\n",
              "    cursor: pointer;\n",
              "    display: none;\n",
              "    fill: var(--fill-color);\n",
              "    height: 32px;\n",
              "    padding: 0;\n",
              "    width: 32px;\n",
              "  }\n",
              "\n",
              "  .colab-df-quickchart:hover {\n",
              "    background-color: var(--hover-bg-color);\n",
              "    box-shadow: 0 1px 2px rgba(60, 64, 67, 0.3), 0 1px 3px 1px rgba(60, 64, 67, 0.15);\n",
              "    fill: var(--button-hover-fill-color);\n",
              "  }\n",
              "\n",
              "  .colab-df-quickchart-complete:disabled,\n",
              "  .colab-df-quickchart-complete:disabled:hover {\n",
              "    background-color: var(--disabled-bg-color);\n",
              "    fill: var(--disabled-fill-color);\n",
              "    box-shadow: none;\n",
              "  }\n",
              "\n",
              "  .colab-df-spinner {\n",
              "    border: 2px solid var(--fill-color);\n",
              "    border-color: transparent;\n",
              "    border-bottom-color: var(--fill-color);\n",
              "    animation:\n",
              "      spin 1s steps(1) infinite;\n",
              "  }\n",
              "\n",
              "  @keyframes spin {\n",
              "    0% {\n",
              "      border-color: transparent;\n",
              "      border-bottom-color: var(--fill-color);\n",
              "      border-left-color: var(--fill-color);\n",
              "    }\n",
              "    20% {\n",
              "      border-color: transparent;\n",
              "      border-left-color: var(--fill-color);\n",
              "      border-top-color: var(--fill-color);\n",
              "    }\n",
              "    30% {\n",
              "      border-color: transparent;\n",
              "      border-left-color: var(--fill-color);\n",
              "      border-top-color: var(--fill-color);\n",
              "      border-right-color: var(--fill-color);\n",
              "    }\n",
              "    40% {\n",
              "      border-color: transparent;\n",
              "      border-right-color: var(--fill-color);\n",
              "      border-top-color: var(--fill-color);\n",
              "    }\n",
              "    60% {\n",
              "      border-color: transparent;\n",
              "      border-right-color: var(--fill-color);\n",
              "    }\n",
              "    80% {\n",
              "      border-color: transparent;\n",
              "      border-right-color: var(--fill-color);\n",
              "      border-bottom-color: var(--fill-color);\n",
              "    }\n",
              "    90% {\n",
              "      border-color: transparent;\n",
              "      border-bottom-color: var(--fill-color);\n",
              "    }\n",
              "  }\n",
              "</style>\n",
              "\n",
              "  <script>\n",
              "    async function quickchart(key) {\n",
              "      const quickchartButtonEl =\n",
              "        document.querySelector('#' + key + ' button');\n",
              "      quickchartButtonEl.disabled = true;  // To prevent multiple clicks.\n",
              "      quickchartButtonEl.classList.add('colab-df-spinner');\n",
              "      try {\n",
              "        const charts = await google.colab.kernel.invokeFunction(\n",
              "            'suggestCharts', [key], {});\n",
              "      } catch (error) {\n",
              "        console.error('Error during call to suggestCharts:', error);\n",
              "      }\n",
              "      quickchartButtonEl.classList.remove('colab-df-spinner');\n",
              "      quickchartButtonEl.classList.add('colab-df-quickchart-complete');\n",
              "    }\n",
              "    (() => {\n",
              "      let quickchartButtonEl =\n",
              "        document.querySelector('#df-fdbf266e-d92b-47ca-a434-a976d3937d40 button');\n",
              "      quickchartButtonEl.style.display =\n",
              "        google.colab.kernel.accessAllowed ? 'block' : 'none';\n",
              "    })();\n",
              "  </script>\n",
              "</div>\n",
              "\n",
              "    </div>\n",
              "  </div>\n"
            ],
            "application/vnd.google.colaboratory.intrinsic+json": {
              "type": "dataframe",
              "summary": "{\n  \"name\": \"pd\",\n  \"rows\": 3,\n  \"fields\": [\n    {\n      \"column\": \"marital\",\n      \"properties\": {\n        \"dtype\": \"number\",\n        \"std\": 1,\n        \"min\": 1,\n        \"max\": 3,\n        \"num_unique_values\": 3,\n        \"samples\": [\n          1,\n          2,\n          3\n        ],\n        \"semantic_type\": \"\",\n        \"description\": \"\"\n      }\n    },\n    {\n      \"column\": 1,\n      \"properties\": {\n        \"dtype\": \"number\",\n        \"std\": 187,\n        \"min\": 92,\n        \"max\": 432,\n        \"num_unique_values\": 3,\n        \"samples\": [\n          432,\n          92,\n          124\n        ],\n        \"semantic_type\": \"\",\n        \"description\": \"\"\n      }\n    },\n    {\n      \"column\": 2,\n      \"properties\": {\n        \"dtype\": \"number\",\n        \"std\": 111,\n        \"min\": 282,\n        \"max\": 504,\n        \"num_unique_values\": 3,\n        \"samples\": [\n          504,\n          282,\n          409\n        ],\n        \"semantic_type\": \"\",\n        \"description\": \"\"\n      }\n    },\n    {\n      \"column\": 3,\n      \"properties\": {\n        \"dtype\": \"number\",\n        \"std\": 37,\n        \"min\": 61,\n        \"max\": 135,\n        \"num_unique_values\": 3,\n        \"samples\": [\n          61,\n          103,\n          135\n        ],\n        \"semantic_type\": \"\",\n        \"description\": \"\"\n      }\n    }\n  ]\n}"
            }
          },
          "metadata": {},
          "execution_count": 77
        }
      ],
      "source": [
        "pd.crosstab(happy[\"marital\"], happy[\"happiness\"])"
      ]
    }
  ],
  "metadata": {
    "colab": {
      "provenance": []
    },
    "kernelspec": {
      "display_name": "Python 3",
      "name": "python3"
    },
    "language_info": {
      "codemirror_mode": {
        "name": "ipython",
        "version": 3
      },
      "file_extension": ".py",
      "mimetype": "text/x-python",
      "name": "python",
      "nbconvert_exporter": "python",
      "pygments_lexer": "ipython3",
      "version": "3.9.6"
    }
  },
  "nbformat": 4,
  "nbformat_minor": 0
}